{
  "nbformat": 4,
  "nbformat_minor": 0,
  "metadata": {
    "colab": {
      "provenance": [],
      "authorship_tag": "ABX9TyNN6PRBtdZbAnQ+KzwG0whU",
      "include_colab_link": true
    },
    "kernelspec": {
      "name": "python3",
      "display_name": "Python 3"
    },
    "language_info": {
      "name": "python"
    }
  },
  "cells": [
    {
      "cell_type": "markdown",
      "metadata": {
        "id": "view-in-github",
        "colab_type": "text"
      },
      "source": [
        "<a href=\"https://colab.research.google.com/github/roybipro/AI-ML-Learning/blob/main/Session3_Python_Strings.ipynb\" target=\"_parent\"><img src=\"https://colab.research.google.com/assets/colab-badge.svg\" alt=\"Open In Colab\"/></a>"
      ]
    },
    {
      "cell_type": "markdown",
      "source": [
        "### Sequence sum\n",
        "\n",
        "1/1! + 2/2! + 3/3! + ..."
      ],
      "metadata": {
        "id": "jmeilrsx_Dz_"
      }
    },
    {
      "cell_type": "code",
      "source": [
        "#code\n",
        "n= int(input('enter n :'))\n",
        "reasult =0\n",
        "fact =1\n",
        "for i in range(1,n+1):\n",
        " fact = fact*i\n",
        " reasult = reasult+i/fact\n",
        "print(reasult)\n"
      ],
      "metadata": {
        "colab": {
          "base_uri": "https://localhost:8080/"
        },
        "id": "UU38MOpA_E3_",
        "outputId": "248b8c06-5ad6-43f4-b0c4-3fb00c5b4309"
      },
      "execution_count": null,
      "outputs": [
        {
          "output_type": "stream",
          "name": "stdout",
          "text": [
            "enter n :90\n",
            "2.7182818284590455\n"
          ]
        }
      ]
    },
    {
      "cell_type": "markdown",
      "source": [
        "# Nested Loops"
      ],
      "metadata": {
        "id": "F_ka2Jji_G3d"
      }
    },
    {
      "cell_type": "code",
      "source": [
        "for i in range(1,5):\n",
        "  for j in range(1,5):\n",
        "    print(i,j)"
      ],
      "metadata": {
        "colab": {
          "base_uri": "https://localhost:8080/"
        },
        "id": "3nctuHAQ_RvA",
        "outputId": "ed3401e7-bfbe-4532-9752-46ced73f8bb7"
      },
      "execution_count": null,
      "outputs": [
        {
          "output_type": "stream",
          "name": "stdout",
          "text": [
            "1 1\n",
            "1 2\n",
            "1 3\n",
            "1 4\n",
            "2 1\n",
            "2 2\n",
            "2 3\n",
            "2 4\n",
            "3 1\n",
            "3 2\n",
            "3 3\n",
            "3 4\n",
            "4 1\n",
            "4 2\n",
            "4 3\n",
            "4 4\n"
          ]
        }
      ]
    },
    {
      "cell_type": "markdown",
      "source": [
        "### Pattern 1\n",
        "<br>* <br>\n",
        "** <br>\n",
        "***<br>\n"
      ],
      "metadata": {
        "id": "iUnoz6z1_aaI"
      }
    },
    {
      "cell_type": "code",
      "source": [
        "rows = int(input(\"Input row Number :\"))\n",
        "for i in range(1,rows+1):\n",
        "  for j in range(1,i+1):\n",
        "    print(\"* \",end ='')\n",
        "  print()\n"
      ],
      "metadata": {
        "colab": {
          "base_uri": "https://localhost:8080/"
        },
        "id": "exQMnIoC_Zv2",
        "outputId": "8dfc0b90-b249-4275-9072-3ad854090814"
      },
      "execution_count": null,
      "outputs": [
        {
          "output_type": "stream",
          "name": "stdout",
          "text": [
            "Input row Number :4\n",
            "* \n",
            "* * 1\n",
            "* * * 21\n",
            "* * * * 321\n"
          ]
        }
      ]
    },
    {
      "cell_type": "markdown",
      "source": [
        "### Pattern 2\n",
        "\n",
        "1<br>\n",
        "121<br>\n",
        "12321<br>\n",
        "1234321<br>"
      ],
      "metadata": {
        "id": "OxXDih5R_0uB"
      }
    },
    {
      "cell_type": "code",
      "source": [
        "rows = int(input(\"Input the number of roows :\"))\n",
        "for i in range(1,rows+1):\n",
        "  for j in range(1,i+1):\n",
        "    print(j,end='')\n",
        "  for k in range (i-1,0,-1):\n",
        "    print(k,end='')\n",
        "  print()"
      ],
      "metadata": {
        "id": "x8rGo4KM_Y-j",
        "colab": {
          "base_uri": "https://localhost:8080/"
        },
        "outputId": "b215abae-0057-4f4a-f5d6-e34dccfb9ae9"
      },
      "execution_count": null,
      "outputs": [
        {
          "output_type": "stream",
          "name": "stdout",
          "text": [
            "Input the number of roows :6\n",
            "1\n",
            "121\n",
            "12321\n",
            "1234321\n",
            "123454321\n",
            "12345654321\n"
          ]
        }
      ]
    },
    {
      "cell_type": "markdown",
      "source": [
        "# Loop Control Statement\n",
        "\n",
        "- Break\n",
        "- Continue\n",
        "- Pass"
      ],
      "metadata": {
        "id": "oFemwQBw_8Q1"
      }
    },
    {
      "cell_type": "code",
      "source": [
        "#Break\n",
        "for i in range(1,10):\n",
        "  if i == 5:\n",
        "    break\n",
        "  print(i)"
      ],
      "metadata": {
        "id": "9NNS6bDL_82u",
        "colab": {
          "base_uri": "https://localhost:8080/"
        },
        "outputId": "348f2bb7-f706-435c-e57a-6957d1a69a08"
      },
      "execution_count": null,
      "outputs": [
        {
          "output_type": "stream",
          "name": "stdout",
          "text": [
            "1\n",
            "2\n",
            "3\n",
            "4\n"
          ]
        }
      ]
    },
    {
      "cell_type": "code",
      "source": [
        "#find prime number\n",
        "#Break\n",
        "lower = int(input(\"Input Lower range :\"))\n",
        "upper = int(input(\"Input Upper range :\"))\n",
        "\n",
        "for i in range(lower,upper+1):\n",
        "  for j in range(2,i):\n",
        "    if i%j == 0:\n",
        "     break\n",
        "  else:\n",
        "    print(i)\n"
      ],
      "metadata": {
        "id": "voBWY0VC9bxW",
        "colab": {
          "base_uri": "https://localhost:8080/"
        },
        "outputId": "fe2698d8-0116-415b-9a49-d919960f42ad"
      },
      "execution_count": null,
      "outputs": [
        {
          "output_type": "stream",
          "name": "stdout",
          "text": [
            "Input Lower range :1\n",
            "Input Upper range :100\n",
            "1\n",
            "2\n",
            "3\n",
            "5\n",
            "7\n",
            "11\n",
            "13\n",
            "17\n",
            "19\n",
            "23\n",
            "29\n",
            "31\n",
            "37\n",
            "41\n",
            "43\n",
            "47\n",
            "53\n",
            "59\n",
            "61\n",
            "67\n",
            "71\n",
            "73\n",
            "79\n",
            "83\n",
            "89\n",
            "97\n"
          ]
        }
      ]
    },
    {
      "cell_type": "code",
      "source": [
        "#continue\n",
        "for i in range(1,10):\n",
        "  if i == 6:\n",
        "    continue\n",
        "  print(i)"
      ],
      "metadata": {
        "id": "QPwyXdT09b2K",
        "colab": {
          "base_uri": "https://localhost:8080/"
        },
        "outputId": "bfb59504-8d0e-457a-b6fc-9e9ed3908052"
      },
      "execution_count": null,
      "outputs": [
        {
          "output_type": "stream",
          "name": "stdout",
          "text": [
            "1\n",
            "2\n",
            "3\n",
            "4\n",
            "5\n",
            "7\n",
            "8\n",
            "9\n"
          ]
        }
      ]
    },
    {
      "cell_type": "code",
      "source": [
        "#pass\n",
        "for i in range(1,10):\n",
        "  pass\n",
        "  #if we dont use pass it will show error"
      ],
      "metadata": {
        "id": "c_kqggLg9b_i"
      },
      "execution_count": null,
      "outputs": []
    },
    {
      "cell_type": "markdown",
      "source": [
        "Strings are sequence of Characters\n",
        "\n",
        "In Python specifically, strings are a sequence of Unicode Characters\n",
        "\n",
        "- Creating Strings\n",
        "- Accessing Strings\n",
        "- Adding Chars to Strings\n",
        "- Editing Strings\n",
        "- Deleting Strings\n",
        "- Operations on Strings\n",
        "- String Functions"
      ],
      "metadata": {
        "id": "iz0prYf-LiFB"
      }
    },
    {
      "cell_type": "markdown",
      "source": [
        "## Creating Stings"
      ],
      "metadata": {
        "id": "i75VO5hxL_4K"
      }
    },
    {
      "cell_type": "code",
      "source": [
        "s ='hello'\n",
        "s =\"hello\"\n",
        "s ='''Hello''' #for multiline string\n",
        "s =\"\"\" Hello\"\"\"\n",
        "s = str('Hello')\n",
        "print(s)"
      ],
      "metadata": {
        "id": "FqMi90xxLotH",
        "colab": {
          "base_uri": "https://localhost:8080/"
        },
        "outputId": "33375fe3-0af9-4ea4-8dd9-700ab59e03bf"
      },
      "execution_count": null,
      "outputs": [
        {
          "output_type": "stream",
          "name": "stdout",
          "text": [
            "Hello\n"
          ]
        }
      ]
    },
    {
      "cell_type": "code",
      "source": [
        "\"it's raining outside\""
      ],
      "metadata": {
        "colab": {
          "base_uri": "https://localhost:8080/",
          "height": 35
        },
        "id": "NUEqGB84C1Vs",
        "outputId": "0c002dcc-f25a-46c3-86f5-31c9f0248c01"
      },
      "execution_count": null,
      "outputs": [
        {
          "output_type": "execute_result",
          "data": {
            "text/plain": [
              "\"it's raining outside\""
            ],
            "application/vnd.google.colaboratory.intrinsic+json": {
              "type": "string"
            }
          },
          "metadata": {},
          "execution_count": 1
        }
      ]
    },
    {
      "cell_type": "markdown",
      "source": [
        "## Accessing Substrings from a String"
      ],
      "metadata": {
        "id": "24fOWaO_MCtn"
      }
    },
    {
      "cell_type": "code",
      "source": [
        "#Positive Indexing\n",
        "s ='Hello World'\n",
        "print(s[1])\n"
      ],
      "metadata": {
        "id": "es8p3f7FMGP1",
        "colab": {
          "base_uri": "https://localhost:8080/"
        },
        "outputId": "22751353-37cd-453c-f475-649dfafbb52b"
      },
      "execution_count": null,
      "outputs": [
        {
          "output_type": "stream",
          "name": "stdout",
          "text": [
            "e\n"
          ]
        }
      ]
    },
    {
      "cell_type": "code",
      "source": [
        "#Negative Indexing\n",
        "s ='Hello World'\n",
        "print(s[-3])"
      ],
      "metadata": {
        "id": "_rdwDbNYD-lY",
        "colab": {
          "base_uri": "https://localhost:8080/"
        },
        "outputId": "d929e0bc-9424-407c-99ce-863825c9af31"
      },
      "execution_count": null,
      "outputs": [
        {
          "output_type": "stream",
          "name": "stdout",
          "text": [
            "r\n"
          ]
        }
      ]
    },
    {
      "cell_type": "code",
      "source": [
        "#Slicing\n",
        "s = 'Hello World'\n",
        "print(s[0:5])\n",
        "print(s[2:3])\n",
        "print(s[:4])\n",
        "print(s[0:6:2])\n",
        "#we can use negative indexing here\n",
        "print(s[5:2:-1])\n",
        "print(s[::-1])"
      ],
      "metadata": {
        "id": "qWGgcTHpEcSC",
        "colab": {
          "base_uri": "https://localhost:8080/"
        },
        "outputId": "69af0ad6-e207-4baa-8953-84133534aeb1"
      },
      "execution_count": null,
      "outputs": [
        {
          "output_type": "stream",
          "name": "stdout",
          "text": [
            "Hello\n",
            "l\n",
            "Hell\n",
            "Hlo\n",
            "dlroW ol\n",
            "dlroW olleH\n"
          ]
        }
      ]
    },
    {
      "cell_type": "markdown",
      "source": [
        "## Editing and Deleting in Strings"
      ],
      "metadata": {
        "id": "g2VqMYWqMJSU"
      }
    },
    {
      "cell_type": "code",
      "source": [
        "s = 'Hello World'\n",
        "s[0] ='H'\n",
        "#Python strings are immutable (We cant edit the string)"
      ],
      "metadata": {
        "id": "j_jPqHHyMKGK",
        "colab": {
          "base_uri": "https://localhost:8080/",
          "height": 176
        },
        "outputId": "ccb1b703-a049-4814-aff1-bf44abd8c87a"
      },
      "execution_count": null,
      "outputs": [
        {
          "output_type": "error",
          "ename": "TypeError",
          "evalue": "'str' object does not support item assignment",
          "traceback": [
            "\u001b[0;31m---------------------------------------------------------------------------\u001b[0m",
            "\u001b[0;31mTypeError\u001b[0m                                 Traceback (most recent call last)",
            "\u001b[0;32m/tmp/ipython-input-3156909768.py\u001b[0m in \u001b[0;36m<cell line: 0>\u001b[0;34m()\u001b[0m\n\u001b[1;32m      1\u001b[0m \u001b[0ms\u001b[0m \u001b[0;34m=\u001b[0m \u001b[0;34m'Hello World'\u001b[0m\u001b[0;34m\u001b[0m\u001b[0;34m\u001b[0m\u001b[0m\n\u001b[0;32m----> 2\u001b[0;31m \u001b[0ms\u001b[0m\u001b[0;34m[\u001b[0m\u001b[0;36m0\u001b[0m\u001b[0;34m]\u001b[0m \u001b[0;34m=\u001b[0m\u001b[0;34m'H'\u001b[0m\u001b[0;34m\u001b[0m\u001b[0;34m\u001b[0m\u001b[0m\n\u001b[0m\u001b[1;32m      3\u001b[0m \u001b[0;31m#Python strings are immutable (We cant edit the string)\u001b[0m\u001b[0;34m\u001b[0m\u001b[0;34m\u001b[0m\u001b[0m\n",
            "\u001b[0;31mTypeError\u001b[0m: 'str' object does not support item assignment"
          ]
        }
      ]
    },
    {
      "cell_type": "code",
      "source": [
        "s = 'Hello World'\n",
        "del s\n",
        "print(s)"
      ],
      "metadata": {
        "colab": {
          "base_uri": "https://localhost:8080/",
          "height": 176
        },
        "id": "rF-XM6IOG8-0",
        "outputId": "3f9385ee-e92c-4605-86b0-fa49ea76cbd1"
      },
      "execution_count": null,
      "outputs": [
        {
          "output_type": "error",
          "ename": "NameError",
          "evalue": "name 's' is not defined",
          "traceback": [
            "\u001b[0;31m---------------------------------------------------------------------------\u001b[0m",
            "\u001b[0;31mNameError\u001b[0m                                 Traceback (most recent call last)",
            "\u001b[0;32m/tmp/ipython-input-3104801364.py\u001b[0m in \u001b[0;36m<cell line: 0>\u001b[0;34m()\u001b[0m\n\u001b[1;32m      1\u001b[0m \u001b[0ms\u001b[0m \u001b[0;34m=\u001b[0m \u001b[0;34m'Hello World'\u001b[0m\u001b[0;34m\u001b[0m\u001b[0;34m\u001b[0m\u001b[0m\n\u001b[1;32m      2\u001b[0m \u001b[0;32mdel\u001b[0m \u001b[0ms\u001b[0m\u001b[0;34m\u001b[0m\u001b[0;34m\u001b[0m\u001b[0m\n\u001b[0;32m----> 3\u001b[0;31m \u001b[0mprint\u001b[0m\u001b[0;34m(\u001b[0m\u001b[0ms\u001b[0m\u001b[0;34m)\u001b[0m\u001b[0;34m\u001b[0m\u001b[0;34m\u001b[0m\u001b[0m\n\u001b[0m",
            "\u001b[0;31mNameError\u001b[0m: name 's' is not defined"
          ]
        }
      ]
    },
    {
      "cell_type": "markdown",
      "source": [
        "## Operations on Strings\n",
        "\n",
        "- Arithmetic Operations\n",
        "- Relational Operations\n",
        "- Logical Operations\n",
        "- Loops on Strings\n",
        "- Membership Operations"
      ],
      "metadata": {
        "id": "6icAp0UvMKsh"
      }
    },
    {
      "cell_type": "code",
      "source": [
        "print('delhi' + ' ' + 'mumbai')"
      ],
      "metadata": {
        "colab": {
          "base_uri": "https://localhost:8080/"
        },
        "id": "37rbhwLAMSt9",
        "outputId": "9ba3f855-375a-4355-8b94-21254da02eb0"
      },
      "execution_count": null,
      "outputs": [
        {
          "output_type": "stream",
          "name": "stdout",
          "text": [
            "delhi mumbai\n"
          ]
        }
      ]
    },
    {
      "cell_type": "code",
      "source": [
        "print('delhi'*5)"
      ],
      "metadata": {
        "colab": {
          "base_uri": "https://localhost:8080/"
        },
        "id": "cnTYYnv9HsIc",
        "outputId": "1bb37e5e-4328-4f3a-c7ad-5ae255fde2e1"
      },
      "execution_count": null,
      "outputs": [
        {
          "output_type": "stream",
          "name": "stdout",
          "text": [
            "delhidelhidelhidelhidelhi\n"
          ]
        }
      ]
    },
    {
      "cell_type": "code",
      "source": [
        "print(\"*\"*50)"
      ],
      "metadata": {
        "colab": {
          "base_uri": "https://localhost:8080/"
        },
        "id": "OJM0LcTcHsQB",
        "outputId": "57e7a5c7-1dbb-4580-e6bf-c9e5da5f79df"
      },
      "execution_count": null,
      "outputs": [
        {
          "output_type": "stream",
          "name": "stdout",
          "text": [
            "**************************************************\n"
          ]
        }
      ]
    },
    {
      "cell_type": "code",
      "source": [
        "'delhi' != 'delhi'"
      ],
      "metadata": {
        "colab": {
          "base_uri": "https://localhost:8080/"
        },
        "id": "d5wx8XKeHsWP",
        "outputId": "344e2fb7-112d-43d1-bf1c-1691aa8c2489"
      },
      "execution_count": null,
      "outputs": [
        {
          "output_type": "execute_result",
          "data": {
            "text/plain": [
              "False"
            ]
          },
          "metadata": {},
          "execution_count": 35
        }
      ]
    },
    {
      "cell_type": "code",
      "source": [
        "'mumbai' > 'pune'\n",
        "# lexiographically (is compare in ascii value)"
      ],
      "metadata": {
        "colab": {
          "base_uri": "https://localhost:8080/"
        },
        "id": "G3byoyLNHsmo",
        "outputId": "298d205f-6b35-401c-9f50-80aedaf8b8f0"
      },
      "execution_count": null,
      "outputs": [
        {
          "output_type": "execute_result",
          "data": {
            "text/plain": [
              "False"
            ]
          },
          "metadata": {},
          "execution_count": 36
        }
      ]
    },
    {
      "cell_type": "code",
      "source": [
        "'Pune' > 'pune'"
      ],
      "metadata": {
        "colab": {
          "base_uri": "https://localhost:8080/"
        },
        "id": "qtZ0Zm-HHsry",
        "outputId": "c9d0bf38-795d-4888-8e09-7642b8a5e494"
      },
      "execution_count": null,
      "outputs": [
        {
          "output_type": "execute_result",
          "data": {
            "text/plain": [
              "False"
            ]
          },
          "metadata": {},
          "execution_count": 91
        }
      ]
    },
    {
      "cell_type": "code",
      "source": [
        "'hello' and 'world'"
      ],
      "metadata": {
        "colab": {
          "base_uri": "https://localhost:8080/",
          "height": 35
        },
        "id": "pRj_nS6kHs00",
        "outputId": "8dd4ab95-d0ca-4652-ce25-210049eac781"
      },
      "execution_count": null,
      "outputs": [
        {
          "output_type": "execute_result",
          "data": {
            "text/plain": [
              "'world'"
            ],
            "application/vnd.google.colaboratory.intrinsic+json": {
              "type": "string"
            }
          },
          "metadata": {},
          "execution_count": 34
        }
      ]
    },
    {
      "cell_type": "code",
      "source": [
        "'hello' or 'world'"
      ],
      "metadata": {
        "colab": {
          "base_uri": "https://localhost:8080/",
          "height": 35
        },
        "id": "KZhBwrGtJEFY",
        "outputId": "b99941f7-1644-4bc3-fbf9-d1aba90298ad"
      },
      "execution_count": null,
      "outputs": [
        {
          "output_type": "execute_result",
          "data": {
            "text/plain": [
              "'hello'"
            ],
            "application/vnd.google.colaboratory.intrinsic+json": {
              "type": "string"
            }
          },
          "metadata": {},
          "execution_count": 32
        }
      ]
    },
    {
      "cell_type": "code",
      "source": [
        "'' and 'world'"
      ],
      "metadata": {
        "colab": {
          "base_uri": "https://localhost:8080/",
          "height": 36
        },
        "id": "d8W6QmDnJELj",
        "outputId": "a453a2e0-3502-49ac-d058-c69f6e248401"
      },
      "execution_count": null,
      "outputs": [
        {
          "output_type": "execute_result",
          "data": {
            "text/plain": [
              "''"
            ],
            "application/vnd.google.colaboratory.intrinsic+json": {
              "type": "string"
            }
          },
          "metadata": {},
          "execution_count": 94
        }
      ]
    },
    {
      "cell_type": "code",
      "source": [
        "'' or 'world'"
      ],
      "metadata": {
        "colab": {
          "base_uri": "https://localhost:8080/",
          "height": 36
        },
        "id": "jTsHPpGQJESA",
        "outputId": "0512e1ce-47fe-4075-9b99-dc52a6cda55b"
      },
      "execution_count": null,
      "outputs": [
        {
          "output_type": "execute_result",
          "data": {
            "text/plain": [
              "'world'"
            ],
            "application/vnd.google.colaboratory.intrinsic+json": {
              "type": "string"
            }
          },
          "metadata": {},
          "execution_count": 95
        }
      ]
    },
    {
      "cell_type": "code",
      "source": [
        "'hello' or 'world'"
      ],
      "metadata": {
        "colab": {
          "base_uri": "https://localhost:8080/",
          "height": 36
        },
        "id": "BvwdDf4PJmnz",
        "outputId": "d72174f5-64cc-42a1-bcbc-3c8790031df8"
      },
      "execution_count": null,
      "outputs": [
        {
          "output_type": "execute_result",
          "data": {
            "text/plain": [
              "'hello'"
            ],
            "application/vnd.google.colaboratory.intrinsic+json": {
              "type": "string"
            }
          },
          "metadata": {},
          "execution_count": 96
        }
      ]
    },
    {
      "cell_type": "code",
      "source": [
        "'hello' and 'world'"
      ],
      "metadata": {
        "colab": {
          "base_uri": "https://localhost:8080/",
          "height": 36
        },
        "id": "pTRQabdQJnnV",
        "outputId": "5ab1851d-1203-45f1-989e-672b8ebe0f38"
      },
      "execution_count": null,
      "outputs": [
        {
          "output_type": "execute_result",
          "data": {
            "text/plain": [
              "'world'"
            ],
            "application/vnd.google.colaboratory.intrinsic+json": {
              "type": "string"
            }
          },
          "metadata": {},
          "execution_count": 97
        }
      ]
    },
    {
      "cell_type": "code",
      "source": [
        "not 'hello'"
      ],
      "metadata": {
        "colab": {
          "base_uri": "https://localhost:8080/"
        },
        "id": "jrf62do3J4VD",
        "outputId": "b7105118-adb0-4381-c9cd-102aa64d4c70"
      },
      "execution_count": null,
      "outputs": [
        {
          "output_type": "execute_result",
          "data": {
            "text/plain": [
              "False"
            ]
          },
          "metadata": {},
          "execution_count": 99
        }
      ]
    },
    {
      "cell_type": "code",
      "source": [
        "for i in 'hello':\n",
        "  print(i)"
      ],
      "metadata": {
        "colab": {
          "base_uri": "https://localhost:8080/"
        },
        "id": "i64jefPQKRtR",
        "outputId": "b9d5e844-fc1f-4403-862c-fdc845b39161"
      },
      "execution_count": null,
      "outputs": [
        {
          "output_type": "stream",
          "name": "stdout",
          "text": [
            "h\n",
            "e\n",
            "l\n",
            "l\n",
            "o\n"
          ]
        }
      ]
    },
    {
      "cell_type": "code",
      "source": [
        "for i in 'how':\n",
        "  print('pune')"
      ],
      "metadata": {
        "colab": {
          "base_uri": "https://localhost:8080/"
        },
        "id": "REKYlAzhKRzC",
        "outputId": "e3536bdf-572c-45ab-c30b-17470cf08e1d"
      },
      "execution_count": null,
      "outputs": [
        {
          "output_type": "stream",
          "name": "stdout",
          "text": [
            "pune\n",
            "pune\n",
            "pune\n"
          ]
        }
      ]
    },
    {
      "cell_type": "code",
      "source": [
        "'D' in 'Delhi'"
      ],
      "metadata": {
        "colab": {
          "base_uri": "https://localhost:8080/"
        },
        "id": "iaiPu9JKKR5K",
        "outputId": "372c5c85-4894-4f8c-b9e3-280607621683"
      },
      "execution_count": null,
      "outputs": [
        {
          "output_type": "execute_result",
          "data": {
            "text/plain": [
              "True"
            ]
          },
          "metadata": {},
          "execution_count": 39
        }
      ]
    },
    {
      "cell_type": "markdown",
      "source": [
        "## Common Functions\n",
        "- len\n",
        "- max\n",
        "- min\n",
        "- sorted"
      ],
      "metadata": {
        "id": "dE_jTrX5MYSV"
      }
    },
    {
      "cell_type": "code",
      "source": [
        "len('Hello World')"
      ],
      "metadata": {
        "id": "Q26dbu9VLVQg",
        "colab": {
          "base_uri": "https://localhost:8080/"
        },
        "outputId": "2b5c2102-932e-4db2-939a-8235f0a89503"
      },
      "execution_count": null,
      "outputs": [
        {
          "output_type": "execute_result",
          "data": {
            "text/plain": [
              "11"
            ]
          },
          "metadata": {},
          "execution_count": 42
        }
      ]
    },
    {
      "cell_type": "code",
      "source": [
        "max(\"Hello world\") #Ascii value"
      ],
      "metadata": {
        "colab": {
          "base_uri": "https://localhost:8080/",
          "height": 35
        },
        "id": "JY-O7xDnWM8q",
        "outputId": "736634ff-c053-496b-8dff-ca3439e0f294"
      },
      "execution_count": null,
      "outputs": [
        {
          "output_type": "execute_result",
          "data": {
            "text/plain": [
              "'w'"
            ],
            "application/vnd.google.colaboratory.intrinsic+json": {
              "type": "string"
            }
          },
          "metadata": {},
          "execution_count": 44
        }
      ]
    },
    {
      "cell_type": "code",
      "source": [
        "min(\"Hello World\")"
      ],
      "metadata": {
        "colab": {
          "base_uri": "https://localhost:8080/",
          "height": 35
        },
        "id": "xNfFCHMeWch2",
        "outputId": "3bd5125c-2681-4749-84ec-c5bf6c99f7ae"
      },
      "execution_count": null,
      "outputs": [
        {
          "output_type": "execute_result",
          "data": {
            "text/plain": [
              "' '"
            ],
            "application/vnd.google.colaboratory.intrinsic+json": {
              "type": "string"
            }
          },
          "metadata": {},
          "execution_count": 45
        }
      ]
    },
    {
      "cell_type": "code",
      "source": [
        "s = sorted('Hello World')\n",
        "r = sorted('Hello World',reverse=True)\n",
        "print(s)\n",
        "print(r)"
      ],
      "metadata": {
        "colab": {
          "base_uri": "https://localhost:8080/"
        },
        "id": "ZJzjTRz4Wi1A",
        "outputId": "b28999c7-3892-4a10-c448-752216634357"
      },
      "execution_count": null,
      "outputs": [
        {
          "output_type": "stream",
          "name": "stdout",
          "text": [
            "[' ', 'H', 'W', 'd', 'e', 'l', 'l', 'l', 'o', 'o', 'r']\n",
            "['r', 'o', 'o', 'l', 'l', 'l', 'e', 'd', 'W', 'H', ' ']\n"
          ]
        }
      ]
    },
    {
      "cell_type": "markdown",
      "source": [
        "## Capitalize/Title/Upper/Lower/Swapcase"
      ],
      "metadata": {
        "id": "yHlmb_KxMf6f"
      }
    },
    {
      "cell_type": "code",
      "source": [
        "s = 'hello world'\n",
        "print(s.capitalize())\n",
        "print(s)"
      ],
      "metadata": {
        "colab": {
          "base_uri": "https://localhost:8080/"
        },
        "id": "Ycqnmb-HMgyz",
        "outputId": "0a2bacaf-1c07-47b1-86e5-d5c386d40b7d"
      },
      "execution_count": null,
      "outputs": [
        {
          "output_type": "stream",
          "name": "stdout",
          "text": [
            "Hello world\n",
            "hello world\n"
          ]
        }
      ]
    },
    {
      "cell_type": "code",
      "source": [
        "s.title()"
      ],
      "metadata": {
        "colab": {
          "base_uri": "https://localhost:8080/",
          "height": 36
        },
        "id": "KIBQhMj6L1iK",
        "outputId": "9ac3fa30-6744-4aea-89c0-0d1b3c986375"
      },
      "execution_count": null,
      "outputs": [
        {
          "output_type": "execute_result",
          "data": {
            "text/plain": [
              "'Hello World'"
            ],
            "application/vnd.google.colaboratory.intrinsic+json": {
              "type": "string"
            }
          },
          "metadata": {},
          "execution_count": 111
        }
      ]
    },
    {
      "cell_type": "code",
      "source": [
        "s.upper()"
      ],
      "metadata": {
        "colab": {
          "base_uri": "https://localhost:8080/",
          "height": 36
        },
        "id": "TPo-CYKWL25K",
        "outputId": "f6375733-fdf6-419f-8078-1ecb781aa9e3"
      },
      "execution_count": null,
      "outputs": [
        {
          "output_type": "execute_result",
          "data": {
            "text/plain": [
              "'HELLO WORLD'"
            ],
            "application/vnd.google.colaboratory.intrinsic+json": {
              "type": "string"
            }
          },
          "metadata": {},
          "execution_count": 112
        }
      ]
    },
    {
      "cell_type": "code",
      "source": [
        "'Hello Wolrd'.lower()"
      ],
      "metadata": {
        "colab": {
          "base_uri": "https://localhost:8080/",
          "height": 36
        },
        "id": "8ghClhVBL4Ed",
        "outputId": "bb407478-285c-4e88-ee16-093f50a6a9b3"
      },
      "execution_count": null,
      "outputs": [
        {
          "output_type": "execute_result",
          "data": {
            "text/plain": [
              "'hello wolrd'"
            ],
            "application/vnd.google.colaboratory.intrinsic+json": {
              "type": "string"
            }
          },
          "metadata": {},
          "execution_count": 113
        }
      ]
    },
    {
      "cell_type": "code",
      "source": [
        "'HeLlO WorLD'.swapcase()"
      ],
      "metadata": {
        "colab": {
          "base_uri": "https://localhost:8080/",
          "height": 35
        },
        "id": "Ac6I82JdL4bD",
        "outputId": "cc6f8fd3-2b83-4366-eb75-005e5a24d4f2"
      },
      "execution_count": null,
      "outputs": [
        {
          "output_type": "execute_result",
          "data": {
            "text/plain": [
              "'hElLo wORld'"
            ],
            "application/vnd.google.colaboratory.intrinsic+json": {
              "type": "string"
            }
          },
          "metadata": {},
          "execution_count": 51
        }
      ]
    },
    {
      "cell_type": "markdown",
      "source": [
        "## Count/Find/Index"
      ],
      "metadata": {
        "id": "3iq5s2cnMhkE"
      }
    },
    {
      "cell_type": "code",
      "source": [
        "'my name is nitish'.count('i')"
      ],
      "metadata": {
        "colab": {
          "base_uri": "https://localhost:8080/"
        },
        "id": "puAH2DgBMmNd",
        "outputId": "8d4fbf2d-08f3-408c-9401-b40897e5ae2f"
      },
      "execution_count": null,
      "outputs": [
        {
          "output_type": "execute_result",
          "data": {
            "text/plain": [
              "3"
            ]
          },
          "metadata": {},
          "execution_count": 115
        }
      ]
    },
    {
      "cell_type": "code",
      "source": [
        "'my name is nitish'.find('i')"
      ],
      "metadata": {
        "colab": {
          "base_uri": "https://localhost:8080/"
        },
        "id": "KK5lf-TyMbCR",
        "outputId": "04d0c8b1-c0e4-4a34-8938-6ce306b33c68"
      },
      "execution_count": null,
      "outputs": [
        {
          "output_type": "execute_result",
          "data": {
            "text/plain": [
              "8"
            ]
          },
          "metadata": {},
          "execution_count": 54
        }
      ]
    },
    {
      "cell_type": "code",
      "source": [
        "'my name is nitish'.index('name')"
      ],
      "metadata": {
        "colab": {
          "base_uri": "https://localhost:8080/"
        },
        "id": "rkm5UBY3McKS",
        "outputId": "db25e2ac-aa53-4536-fad3-db179ff78e09"
      },
      "execution_count": null,
      "outputs": [
        {
          "output_type": "execute_result",
          "data": {
            "text/plain": [
              "3"
            ]
          },
          "metadata": {},
          "execution_count": 55
        }
      ]
    },
    {
      "cell_type": "code",
      "source": [],
      "metadata": {
        "id": "Of4uZESOMcW4"
      },
      "execution_count": null,
      "outputs": []
    },
    {
      "cell_type": "markdown",
      "source": [
        "## endswith/startswith"
      ],
      "metadata": {
        "id": "MrsT5bJuMmqs"
      }
    },
    {
      "cell_type": "code",
      "source": [
        "'my name is nitish'.endswith('sho')"
      ],
      "metadata": {
        "colab": {
          "base_uri": "https://localhost:8080/"
        },
        "id": "TbyYTHMxMpbZ",
        "outputId": "2f76966f-8f4c-45d0-958d-979bf5d181a8"
      },
      "execution_count": null,
      "outputs": [
        {
          "output_type": "execute_result",
          "data": {
            "text/plain": [
              "False"
            ]
          },
          "metadata": {},
          "execution_count": 123
        }
      ]
    },
    {
      "cell_type": "code",
      "source": [
        "'my name is nitish'.startswith('1my')"
      ],
      "metadata": {
        "colab": {
          "base_uri": "https://localhost:8080/"
        },
        "id": "gpR1WiKEM8Am",
        "outputId": "eb1e9b53-edd6-4185-96eb-ed39359b6dc0"
      },
      "execution_count": null,
      "outputs": [
        {
          "output_type": "execute_result",
          "data": {
            "text/plain": [
              "False"
            ]
          },
          "metadata": {},
          "execution_count": 125
        }
      ]
    },
    {
      "cell_type": "markdown",
      "source": [
        "## format"
      ],
      "metadata": {
        "id": "0A9eNV0YMqHg"
      }
    },
    {
      "cell_type": "code",
      "source": [
        "name = 'nitish'\n",
        "gender = 'male'\n",
        "\n",
        "'Hi my name is {1} and I am a {0}'.format(gender,name)"
      ],
      "metadata": {
        "colab": {
          "base_uri": "https://localhost:8080/",
          "height": 36
        },
        "id": "p9zAoUNjMtAC",
        "outputId": "e25d4cd5-22eb-4dde-9cd8-d80dd26524b9"
      },
      "execution_count": null,
      "outputs": [
        {
          "output_type": "execute_result",
          "data": {
            "text/plain": [
              "'Hi my name is nitish and I am a male'"
            ],
            "application/vnd.google.colaboratory.intrinsic+json": {
              "type": "string"
            }
          },
          "metadata": {},
          "execution_count": 128
        }
      ]
    },
    {
      "cell_type": "markdown",
      "source": [
        "## isalnum/ isalpha/ isdigit/ isidentifier"
      ],
      "metadata": {
        "id": "vKc81z_fMvIn"
      }
    },
    {
      "cell_type": "code",
      "source": [
        "'nitish1234'.isalnum()"
      ],
      "metadata": {
        "colab": {
          "base_uri": "https://localhost:8080/"
        },
        "id": "v2vFZEfCMv6c",
        "outputId": "56ae8c01-630d-4ede-f5a9-38a0abbb6a6f"
      },
      "execution_count": null,
      "outputs": [
        {
          "output_type": "execute_result",
          "data": {
            "text/plain": [
              "True"
            ]
          },
          "metadata": {},
          "execution_count": 59
        }
      ]
    },
    {
      "cell_type": "code",
      "source": [
        "'nitish'.isalpha()"
      ],
      "metadata": {
        "colab": {
          "base_uri": "https://localhost:8080/"
        },
        "id": "_AJvibg9OT-K",
        "outputId": "48c06339-d3cb-4d70-aab0-e0894fd900d6"
      },
      "execution_count": null,
      "outputs": [
        {
          "output_type": "execute_result",
          "data": {
            "text/plain": [
              "True"
            ]
          },
          "metadata": {},
          "execution_count": 58
        }
      ]
    },
    {
      "cell_type": "code",
      "source": [
        "'123y'.isdigit()"
      ],
      "metadata": {
        "colab": {
          "base_uri": "https://localhost:8080/"
        },
        "id": "JLt0leaVOUGV",
        "outputId": "745b036f-56b0-4596-eb6b-e64d950b67de"
      },
      "execution_count": null,
      "outputs": [
        {
          "output_type": "execute_result",
          "data": {
            "text/plain": [
              "False"
            ]
          },
          "metadata": {},
          "execution_count": 57
        }
      ]
    },
    {
      "cell_type": "code",
      "source": [
        "'first-name'.isidentifier()"
      ],
      "metadata": {
        "colab": {
          "base_uri": "https://localhost:8080/"
        },
        "id": "V3NeoIviOUPa",
        "outputId": "cbd92200-d8d1-40bb-82bd-4a7cabe0745d"
      },
      "execution_count": null,
      "outputs": [
        {
          "output_type": "execute_result",
          "data": {
            "text/plain": [
              "False"
            ]
          },
          "metadata": {},
          "execution_count": 139
        }
      ]
    },
    {
      "cell_type": "code",
      "source": [],
      "metadata": {
        "id": "F2Dg78FtOUaO"
      },
      "execution_count": null,
      "outputs": []
    },
    {
      "cell_type": "markdown",
      "source": [
        "## Split/Join"
      ],
      "metadata": {
        "id": "CkR9E0ywMyPE"
      }
    },
    {
      "cell_type": "code",
      "source": [
        "'hi my name is nitish'.split()"
      ],
      "metadata": {
        "colab": {
          "base_uri": "https://localhost:8080/"
        },
        "id": "82_UJMr7M0VC",
        "outputId": "f9fc2cd4-f718-4a72-fa56-24384f5a1337"
      },
      "execution_count": null,
      "outputs": [
        {
          "output_type": "execute_result",
          "data": {
            "text/plain": [
              "['hi', 'my', 'name', 'is', 'nitish']"
            ]
          },
          "metadata": {},
          "execution_count": 143
        }
      ]
    },
    {
      "cell_type": "code",
      "source": [
        "\" \".join(['hi', 'my', 'name', 'is', 'nitish'])"
      ],
      "metadata": {
        "colab": {
          "base_uri": "https://localhost:8080/",
          "height": 36
        },
        "id": "OmLemRVTO2Qq",
        "outputId": "9597fe72-5c6e-4216-db68-1aee43a8fe87"
      },
      "execution_count": null,
      "outputs": [
        {
          "output_type": "execute_result",
          "data": {
            "text/plain": [
              "'hi my name is nitish'"
            ],
            "application/vnd.google.colaboratory.intrinsic+json": {
              "type": "string"
            }
          },
          "metadata": {},
          "execution_count": 146
        }
      ]
    },
    {
      "cell_type": "markdown",
      "source": [
        "## Replace"
      ],
      "metadata": {
        "id": "30p7nlw_M4M1"
      }
    },
    {
      "cell_type": "code",
      "source": [
        "'hi my name is nitish'.replace('nitisrgewrhgh','campusx')"
      ],
      "metadata": {
        "colab": {
          "base_uri": "https://localhost:8080/",
          "height": 36
        },
        "id": "vuobYzSTM5F-",
        "outputId": "31fc9c0a-80e1-42be-de9f-d8cb2ce800a8"
      },
      "execution_count": null,
      "outputs": [
        {
          "output_type": "execute_result",
          "data": {
            "text/plain": [
              "'hi my name is nitish'"
            ],
            "application/vnd.google.colaboratory.intrinsic+json": {
              "type": "string"
            }
          },
          "metadata": {},
          "execution_count": 148
        }
      ]
    },
    {
      "cell_type": "markdown",
      "source": [
        "## Strip"
      ],
      "metadata": {
        "id": "YqdGvSgFM5hW"
      }
    },
    {
      "cell_type": "code",
      "source": [
        "'nitish          dd                 '.strip() # it remove the extra space of last"
      ],
      "metadata": {
        "colab": {
          "base_uri": "https://localhost:8080/",
          "height": 35
        },
        "id": "AkWgOFpPM6wq",
        "outputId": "de5a4d70-3b24-4d31-c97b-774e61aec6ff"
      },
      "execution_count": null,
      "outputs": [
        {
          "output_type": "execute_result",
          "data": {
            "text/plain": [
              "'nitish          dd'"
            ],
            "application/vnd.google.colaboratory.intrinsic+json": {
              "type": "string"
            }
          },
          "metadata": {},
          "execution_count": 60
        }
      ]
    },
    {
      "cell_type": "markdown",
      "source": [
        "## Example Programs"
      ],
      "metadata": {
        "id": "YvVCKvEhNhie"
      }
    },
    {
      "cell_type": "code",
      "source": [
        "# Find the length of a given string without using the len() function\n",
        "s = input('Enter the string')\n",
        "counter =0\n",
        "for i in s:\n",
        "  counter +=1\n",
        "print('Length of the String is',counter)"
      ],
      "metadata": {
        "id": "KKEdMynlM-_F",
        "colab": {
          "base_uri": "https://localhost:8080/"
        },
        "outputId": "821f3537-a895-45de-bedd-5576c7442fdf"
      },
      "execution_count": null,
      "outputs": [
        {
          "output_type": "stream",
          "name": "stdout",
          "text": [
            "Enter the stringfdshbkjdfh\n",
            "Length of the String is 10\n"
          ]
        }
      ]
    },
    {
      "cell_type": "code",
      "source": [
        "# Extract username from a given email.\n",
        "# Eg if the email is nitish24singh@gmail.com\n",
        "# then the username should be nitish24singh\n",
        "s =input('Enter The Email')\n",
        "position =s.index('@')\n",
        "print(s[0:position])"
      ],
      "metadata": {
        "id": "2Db_x3upNzFo",
        "colab": {
          "base_uri": "https://localhost:8080/"
        },
        "outputId": "7de4d846-e9aa-4f76-de68-040631067296"
      },
      "execution_count": null,
      "outputs": [
        {
          "output_type": "stream",
          "name": "stdout",
          "text": [
            "Enter The Emailhygfdjuhg@g\n",
            "hygfdjuhg\n"
          ]
        }
      ]
    },
    {
      "cell_type": "code",
      "source": [
        "# Count the frequency of a particular character in a provided string.\n",
        "# Eg 'hello how are you' is the string, the frequency of h in this string is 2.\n",
        "s =input('Enter The String')\n",
        "term =input('What would you like to search for')\n",
        "\n",
        "counter =0\n",
        "for i in s:\n",
        "  if i == term:\n",
        "    counter +=1\n",
        "print('Frequency',counter)"
      ],
      "metadata": {
        "id": "N7agO2bGN6ZH",
        "colab": {
          "base_uri": "https://localhost:8080/"
        },
        "outputId": "72a43c6b-0313-4b3b-887c-f500bdcea63a"
      },
      "execution_count": null,
      "outputs": [
        {
          "output_type": "stream",
          "name": "stdout",
          "text": [
            "Enter The Stringhello buddy\n",
            "What would you like to search forl\n",
            "Frequency 2\n"
          ]
        }
      ]
    },
    {
      "cell_type": "code",
      "source": [
        "# Write a program which can remove a particular character from a string.\n",
        "s =input('Enter The String')\n",
        "term =input('What would you like to remove')\n",
        "\n",
        "result =''\n",
        "for i in s:\n",
        "  if i !=term:\n",
        "    result = result +i\n",
        "print(result)"
      ],
      "metadata": {
        "id": "5nnIm08wOAhP",
        "colab": {
          "base_uri": "https://localhost:8080/"
        },
        "outputId": "cfe3be2d-f390-4f83-8442-24275c1cb29b"
      },
      "execution_count": null,
      "outputs": [
        {
          "output_type": "stream",
          "name": "stdout",
          "text": [
            "Enter The Stringhello\n",
            "What would you like to removel\n",
            "heo\n"
          ]
        }
      ]
    },
    {
      "cell_type": "code",
      "source": [
        "# Write a program that can check whether a given string is palindrome or not.\n",
        "# abba\n",
        "# malayalam\n",
        "\n",
        "s = input('enter the string :')\n",
        "flag =True\n",
        "for i in range(0,len(s)//2):\n",
        "  if s[i] != s[len(s)-i-1]:\n",
        "    flag =False\n",
        "    print('Not a Plandrome')\n",
        "    break\n",
        "if flag:\n",
        "  print('Plandrome')"
      ],
      "metadata": {
        "id": "OWLbKD8yOIL8",
        "colab": {
          "base_uri": "https://localhost:8080/"
        },
        "outputId": "341b24ff-17bf-4f0d-c88e-befb3e87e4f9"
      },
      "execution_count": null,
      "outputs": [
        {
          "output_type": "stream",
          "name": "stdout",
          "text": [
            "enter the string :abba\n",
            "Plandrome\n"
          ]
        }
      ]
    },
    {
      "cell_type": "code",
      "source": [
        "# Write a program to count the number of words in a string without split()\n",
        "\n",
        "s = input('enter the string')\n",
        "l=[]\n",
        "temp = ''\n",
        "for i in s:\n",
        "\n",
        "  if i != ' ':\n",
        "    temp = temp+i\n",
        "  else:\n",
        "    l.append(temp)\n",
        "    temp=''\n",
        "l.append(temp)\n",
        "print(l)"
      ],
      "metadata": {
        "id": "qBHUb5taOLdC",
        "colab": {
          "base_uri": "https://localhost:8080/"
        },
        "outputId": "ba33fa25-12e6-4c88-9928-9f4736bc71be"
      },
      "execution_count": null,
      "outputs": [
        {
          "output_type": "stream",
          "name": "stdout",
          "text": [
            "enter the stringhello how are you\n",
            "['hello', 'how', 'are', 'you']\n"
          ]
        }
      ]
    },
    {
      "cell_type": "code",
      "source": [
        "# Write a python program to convert a string to title case without using the title()\n",
        "s = input('enter the string')\n",
        "l =[]\n",
        "for i in s.split():\n",
        "  l.append(i[0].upper() +i[1:].lower())\n",
        "print(\" \".join(l))"
      ],
      "metadata": {
        "id": "tz_DbyP-OO9z",
        "colab": {
          "base_uri": "https://localhost:8080/"
        },
        "outputId": "8dadcd58-f025-4ba9-ce91-ee4847eacaa6"
      },
      "execution_count": null,
      "outputs": [
        {
          "output_type": "stream",
          "name": "stdout",
          "text": [
            "enter the stringhello how are you\n",
            "Hello How Are You\n"
          ]
        }
      ]
    },
    {
      "cell_type": "code",
      "source": [
        "# Write a program that can convert an integer to string.\n",
        "\n",
        "number = int(input('enter the number'))\n",
        "\n",
        "digits = '0123456789'\n",
        "result = ''\n",
        "while number != 0:\n",
        "  result = digits[number % 10] + result\n",
        "  number = number//10\n",
        "\n",
        "print(result)\n",
        "print(type(result))"
      ],
      "metadata": {
        "id": "Gj-c2HctOibM",
        "colab": {
          "base_uri": "https://localhost:8080/"
        },
        "outputId": "8c1c15a6-9f20-4de1-ddba-e9801122c973"
      },
      "execution_count": null,
      "outputs": [
        {
          "output_type": "stream",
          "name": "stdout",
          "text": [
            "enter the number345\n",
            "345\n",
            "<class 'str'>\n"
          ]
        }
      ]
    },
    {
      "cell_type": "code",
      "source": [],
      "metadata": {
        "id": "hXeCKpMROj7e"
      },
      "execution_count": null,
      "outputs": []
    }
  ]
}