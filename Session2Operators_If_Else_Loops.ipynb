{
  "nbformat": 4,
  "nbformat_minor": 0,
  "metadata": {
    "colab": {
      "provenance": [],
      "authorship_tag": "ABX9TyMgnbI+0nyFu/VKjc2n+a76",
      "include_colab_link": true
    },
    "kernelspec": {
      "name": "python3",
      "display_name": "Python 3"
    },
    "language_info": {
      "name": "python"
    }
  },
  "cells": [
    {
      "cell_type": "markdown",
      "metadata": {
        "id": "view-in-github",
        "colab_type": "text"
      },
      "source": [
        "<a href=\"https://colab.research.google.com/github/roybipro/AI-ML-Learning/blob/main/Session2Operators_If_Else_Loops.ipynb\" target=\"_parent\"><img src=\"https://colab.research.google.com/assets/colab-badge.svg\" alt=\"Open In Colab\"/></a>"
      ]
    },
    {
      "cell_type": "markdown",
      "source": [
        "**Operators**\n"
      ],
      "metadata": {
        "id": "y1ZyOFnlrZpi"
      }
    },
    {
      "cell_type": "code",
      "execution_count": null,
      "metadata": {
        "id": "KmXydiklvu7-",
        "colab": {
          "base_uri": "https://localhost:8080/"
        },
        "outputId": "6f7baa77-4266-4f67-d767-8617e3def6c9"
      },
      "outputs": [
        {
          "output_type": "stream",
          "name": "stdout",
          "text": [
            "2\n",
            "25\n"
          ]
        }
      ],
      "source": [
        "#arithmetric Operators\n",
        "print(5//2) #int diviger\n",
        "print(5**2) #power of"
      ]
    },
    {
      "cell_type": "code",
      "source": [
        "#Relational Operators"
      ],
      "metadata": {
        "id": "xTmLy8PZsO7I"
      },
      "execution_count": null,
      "outputs": []
    },
    {
      "cell_type": "code",
      "source": [
        "#Logical Operators"
      ],
      "metadata": {
        "id": "nfwXqN0jtJcT"
      },
      "execution_count": null,
      "outputs": []
    },
    {
      "cell_type": "code",
      "source": [
        " #Bitwiae Operators\n",
        " print(2&3)"
      ],
      "metadata": {
        "colab": {
          "base_uri": "https://localhost:8080/"
        },
        "id": "uCIPQ7bqtYzj",
        "outputId": "1f76309d-340f-4ac6-c60f-4a292cbf7908"
      },
      "execution_count": null,
      "outputs": [
        {
          "output_type": "stream",
          "name": "stdout",
          "text": [
            "2\n"
          ]
        }
      ]
    },
    {
      "cell_type": "code",
      "source": [
        "#membership Operator\n",
        "print('B' in 'Bipro')\n",
        "print('B' not in 'Bipro')"
      ],
      "metadata": {
        "colab": {
          "base_uri": "https://localhost:8080/"
        },
        "id": "jKNoEWTXektP",
        "outputId": "128120fb-19f2-457d-9c46-c534ca4f149d"
      },
      "execution_count": null,
      "outputs": [
        {
          "output_type": "stream",
          "name": "stdout",
          "text": [
            "True\n",
            "False\n"
          ]
        }
      ]
    },
    {
      "cell_type": "code",
      "source": [
        " #find the Sum of a 3 digit Number Enter by user\n",
        "number = int(input('Enter a 3 digit number :'))\n",
        "print(number)\n",
        "lastNumber=number%10\n",
        "number=number//10\n",
        "secondNumber=number%10\n",
        "number =number//10\n",
        "fristNumber=number%10\n",
        "print('Sum',(lastNumber+fristNumber+secondNumber))"
      ],
      "metadata": {
        "id": "TYVK6GhQfGAh",
        "colab": {
          "base_uri": "https://localhost:8080/"
        },
        "outputId": "457d4975-45b4-47bc-c577-e5a723ee5a71"
      },
      "execution_count": null,
      "outputs": [
        {
          "output_type": "stream",
          "name": "stdout",
          "text": [
            "Enter a 3 digit number :454\n",
            "454\n",
            "Sum 13\n"
          ]
        }
      ]
    },
    {
      "cell_type": "markdown",
      "source": [
        "# **If-else**"
      ],
      "metadata": {
        "id": "akZ-MT-yOoR-"
      }
    },
    {
      "cell_type": "code",
      "source": [
        "#Login pogram and indentation\n",
        "#Email -> roybipro896@gmail.com\n",
        "#password -> 1234\n",
        "email = input('Enter Email :')\n",
        "password =input('Input Password :')\n",
        "if email=='roybipro896@gmail.com' and password=='1234':\n",
        " print('Login Sucessful')\n",
        "elif email=='roybipro896@gmail.com' and password!='1234':\n",
        "  print('Password not Correct')\n",
        "  password =input('Enter The Password again')\n",
        "  if password=='1234':\n",
        "   print('Welcome MotherChod')\n",
        "  else:\n",
        "    print('Chodaia Muri khao')\n",
        "else :\n",
        " print('Email and Password Dont Match')"
      ],
      "metadata": {
        "colab": {
          "base_uri": "https://localhost:8080/"
        },
        "id": "fdSz6jJXOtCK",
        "outputId": "12eed6c9-53f5-4a4f-cae9-17e1081b91cf"
      },
      "execution_count": null,
      "outputs": [
        {
          "output_type": "stream",
          "name": "stdout",
          "text": [
            "Enter Email :roybipro896@gmail.com\n",
            "Input Password :1224\n",
            "Password not Correct\n",
            "Enter The Password again22\n",
            "Chodaia Muri khao\n"
          ]
        }
      ]
    },
    {
      "cell_type": "markdown",
      "source": [
        "# Modules In Python"
      ],
      "metadata": {
        "id": "Iinrx8q1clN7"
      }
    },
    {
      "cell_type": "code",
      "source": [
        "#math\n",
        "import math\n",
        "math.floor(9.7)"
      ],
      "metadata": {
        "colab": {
          "base_uri": "https://localhost:8080/"
        },
        "id": "QTY4OumqQUAH",
        "outputId": "6d905c69-0b7a-41aa-b0f3-b9c8ca6e015a"
      },
      "execution_count": null,
      "outputs": [
        {
          "output_type": "execute_result",
          "data": {
            "text/plain": [
              "9"
            ]
          },
          "metadata": {},
          "execution_count": 16
        }
      ]
    },
    {
      "cell_type": "code",
      "source": [
        "#keyword\n",
        "import keyword\n",
        "print(keyword.kwlist)"
      ],
      "metadata": {
        "colab": {
          "base_uri": "https://localhost:8080/"
        },
        "id": "zYLnb-iFcvJB",
        "outputId": "c48215d5-73b9-4e68-e33a-d99d00020124"
      },
      "execution_count": null,
      "outputs": [
        {
          "output_type": "stream",
          "name": "stdout",
          "text": [
            "['False', 'None', 'True', 'and', 'as', 'assert', 'async', 'await', 'break', 'class', 'continue', 'def', 'del', 'elif', 'else', 'except', 'finally', 'for', 'from', 'global', 'if', 'import', 'in', 'is', 'lambda', 'nonlocal', 'not', 'or', 'pass', 'raise', 'return', 'try', 'while', 'with', 'yield']\n"
          ]
        }
      ]
    },
    {
      "cell_type": "code",
      "source": [
        "#random\n",
        "import random\n",
        "print(random.randint(1,99))"
      ],
      "metadata": {
        "colab": {
          "base_uri": "https://localhost:8080/"
        },
        "id": "QXKefh7ccu27",
        "outputId": "bbf14aa6-f005-4905-dae1-596a15d23337"
      },
      "execution_count": null,
      "outputs": [
        {
          "output_type": "stream",
          "name": "stdout",
          "text": [
            "39\n"
          ]
        }
      ]
    },
    {
      "cell_type": "code",
      "source": [
        "#datetime\n",
        "import datetime\n",
        "print(datetime.datetime.now())"
      ],
      "metadata": {
        "colab": {
          "base_uri": "https://localhost:8080/"
        },
        "id": "w80B1QyAcush",
        "outputId": "1bf9914a-2c9d-4fd2-b6b0-f5713148ee2a"
      },
      "execution_count": null,
      "outputs": [
        {
          "output_type": "stream",
          "name": "stdout",
          "text": [
            "2025-09-13 14:26:14.320532\n"
          ]
        }
      ]
    },
    {
      "cell_type": "markdown",
      "source": [
        "# Loops"
      ],
      "metadata": {
        "id": "nqsQIBT_fn-j"
      }
    },
    {
      "cell_type": "code",
      "source": [
        "number=int(input('Enter the number'))\n",
        "i=1\n",
        "while i<11:\n",
        " print(number,'*',i,'=',number*i)\n",
        " i+=1"
      ],
      "metadata": {
        "colab": {
          "base_uri": "https://localhost:8080/"
        },
        "id": "W9ZST2S8e3sh",
        "outputId": "d1ed9fa8-d417-4a0e-ed6f-df90f800f354"
      },
      "execution_count": null,
      "outputs": [
        {
          "output_type": "stream",
          "name": "stdout",
          "text": [
            "Enter the number10\n",
            "10 * 1 = 10\n",
            "10 * 2 = 20\n",
            "10 * 3 = 30\n",
            "10 * 4 = 40\n",
            "10 * 5 = 50\n",
            "10 * 6 = 60\n",
            "10 * 7 = 70\n",
            "10 * 8 = 80\n",
            "10 * 9 = 90\n",
            "10 * 10 = 100\n"
          ]
        }
      ]
    },
    {
      "cell_type": "code",
      "source": [
        "#While Loop with else\n",
        "x = 1\n",
        "while x<8:\n",
        "  print(x)\n",
        "  x +=1\n",
        "else:\n",
        "  print ('Limit Crossed')"
      ],
      "metadata": {
        "colab": {
          "base_uri": "https://localhost:8080/"
        },
        "id": "FA8Vu6M9j-Qz",
        "outputId": "3a1c388d-8050-49f0-c821-317e98d29a96"
      },
      "execution_count": null,
      "outputs": [
        {
          "output_type": "stream",
          "name": "stdout",
          "text": [
            "1\n",
            "2\n",
            "3\n",
            "4\n",
            "5\n",
            "6\n",
            "7\n",
            "Limit Crossed\n"
          ]
        }
      ]
    },
    {
      "cell_type": "code",
      "source": [
        "#gessing Game\n",
        "import random\n",
        "jackpot = random.randint(1,100)\n",
        "guess = int(input('Guess koro'))\n",
        "counter=1\n",
        "while guess!=jackpot:\n",
        "  if guess<jackpot:\n",
        "    print('galat!guess higher')\n",
        "  else:\n",
        "    print('Galat!guess lower')\n",
        "  guess = int(input('Guess koro'))\n",
        "  counter +=1\n",
        "else:\n",
        "  print('Correct Guess')\n",
        "  print('Attemts',counter)\n"
      ],
      "metadata": {
        "colab": {
          "base_uri": "https://localhost:8080/"
        },
        "id": "onLN4EHLkS-X",
        "outputId": "2e7a90ad-52de-4160-ebd5-163866aab2d1"
      },
      "execution_count": null,
      "outputs": [
        {
          "output_type": "stream",
          "name": "stdout",
          "text": [
            "Guess koro77\n",
            "Galat!guess lower\n",
            "Guess koro55\n",
            "Galat!guess lower\n",
            "Guess koro10\n",
            "galat!guess higher\n",
            "Guess koro20\n",
            "Galat!guess lower\n",
            "Guess koro15\n",
            "Correct Guess\n",
            "Attemts 5\n"
          ]
        }
      ]
    },
    {
      "cell_type": "code",
      "source": [
        "#for loop\n",
        "for i in range(10,1,-1):\n",
        "  print(i)"
      ],
      "metadata": {
        "colab": {
          "base_uri": "https://localhost:8080/"
        },
        "id": "sTljmW2JkqEa",
        "outputId": "b273616f-b1dc-4942-c1e6-3627b5d746ad"
      },
      "execution_count": null,
      "outputs": [
        {
          "output_type": "stream",
          "name": "stdout",
          "text": [
            "10\n",
            "9\n",
            "8\n",
            "7\n",
            "6\n",
            "5\n",
            "4\n",
            "3\n",
            "2\n"
          ]
        }
      ]
    },
    {
      "cell_type": "code",
      "source": [
        "for i in 'Bipro':\n",
        "  print(i)"
      ],
      "metadata": {
        "colab": {
          "base_uri": "https://localhost:8080/"
        },
        "id": "kUQNMsd5pAk7",
        "outputId": "7abafe80-d9a6-4a93-8049-491029097f7d"
      },
      "execution_count": null,
      "outputs": [
        {
          "output_type": "stream",
          "name": "stdout",
          "text": [
            "B\n",
            "i\n",
            "p\n",
            "r\n",
            "o\n"
          ]
        }
      ]
    },
    {
      "cell_type": "markdown",
      "source": [
        "Program - The current population of a town is 10000. The population of the town is increasing at the rate of 10% per year. You have to write a program to find out the population at the end of each of the last 10 years."
      ],
      "metadata": {
        "id": "fVhJM_kgqe69"
      }
    },
    {
      "cell_type": "code",
      "source": [
        "currentPopulation =10000\n",
        "for i in range (10,0,-1):\n",
        "  print(i,currentPopulation)\n",
        "\n",
        "  currentPopulation=currentPopulation"
      ],
      "metadata": {
        "colab": {
          "base_uri": "https://localhost:8080/"
        },
        "id": "N5eiorbsqJHf",
        "outputId": "572c6ec1-0ae3-4778-8cf9-19a9e6124767"
      },
      "execution_count": null,
      "outputs": [
        {
          "output_type": "stream",
          "name": "stdout",
          "text": [
            "10 10000\n",
            "9 9000.0\n",
            "8 8100.0\n",
            "7 7290.0\n",
            "6 6561.0\n",
            "5 5904.9\n",
            "4 5314.41\n",
            "3 4782.969\n",
            "2 4304.6721\n",
            "1 3874.20489\n"
          ]
        }
      ]
    },
    {
      "cell_type": "code",
      "source": [],
      "metadata": {
        "id": "Jr-l5vF9rNXC"
      },
      "execution_count": null,
      "outputs": []
    }
  ]
}